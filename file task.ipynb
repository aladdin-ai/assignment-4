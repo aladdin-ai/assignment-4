{
 "cells": [
  {
   "cell_type": "markdown",
   "metadata": {},
   "source": [
    " 1) Solve the Python Files Task:\n",
    " \n",
    "  1- Open a file, name it 'test.txt' and write 'hello world' for 5 times in it then close it.\n",
    "  2- Read the contents of the file, then make content in uppercase then write the result again to the file.\n",
    "  3- Read the third line of the file then update it to its capital case using capitalize.\n",
    "  4- Using With Statement open this file and append 'I Love python' to it."
   ]
  },
  {
   "cell_type": "markdown",
   "metadata": {},
   "source": [
    "                                               Solution"
   ]
  },
  {
   "cell_type": "code",
   "execution_count": 14,
   "metadata": {},
   "outputs": [
    {
     "name": "stdout",
     "output_type": "stream",
     "text": [
      "hello world\n",
      "hello world\n",
      "hello world\n",
      "hello world\n",
      "hello world\n",
      "\n"
     ]
    }
   ],
   "source": [
    "myfile = open('test.txt', 'w+')\n",
    "myfile.write('hello world\\n' * 5)\n",
    "myfile.seek(0)\n",
    "print(myfile.read())\n",
    "myfile.close()\n",
    "myfile = open('test.txt', 'r')\n",
    "data = myfile.read()\n",
    "myfile.close()\n",
    "myfile = open('test.txt', 'w')\n",
    "myfile.write(data.upper())\n",
    "myfile.close()"
   ]
  },
  {
   "cell_type": "code",
   "execution_count": 15,
   "metadata": {},
   "outputs": [
    {
     "name": "stdout",
     "output_type": "stream",
     "text": [
      "['HELLO WORLD\\n', 'HELLO WORLD\\n', 'HELLO WORLD\\n', 'HELLO WORLD\\n', 'HELLO WORLD\\n']\n",
      "['HELLO WORLD\\n', 'HELLO WORLD\\n', 'Hello world\\n', 'HELLO WORLD\\n', 'HELLO WORLD\\n']\n"
     ]
    }
   ],
   "source": [
    "myfile = open('test.txt', 'r')\n",
    "mylines = myfile.readlines()\n",
    "print(mylines)\n",
    "mylines[2] = mylines[2].capitalize()\n",
    "print(mylines)\n",
    "myfile.close()\n",
    "myfile = open('test.txt', 'w')\n",
    "myfile.writelines(mylines)\n",
    "myfile.close()"
   ]
  },
  {
   "cell_type": "code",
   "execution_count": 16,
   "metadata": {},
   "outputs": [],
   "source": [
    "myfile = open('test.txt', 'a+')\n",
    "myfile.writelines('I Love Python')\n",
    "myfile.close()"
   ]
  },
  {
   "cell_type": "code",
   "execution_count": null,
   "metadata": {},
   "outputs": [],
   "source": []
  }
 ],
 "metadata": {
  "kernelspec": {
   "display_name": "Python 3",
   "language": "python",
   "name": "python3"
  },
  "language_info": {
   "codemirror_mode": {
    "name": "ipython",
    "version": 3
   },
   "file_extension": ".py",
   "mimetype": "text/x-python",
   "name": "python",
   "nbconvert_exporter": "python",
   "pygments_lexer": "ipython3",
   "version": "3.8.5"
  }
 },
 "nbformat": 4,
 "nbformat_minor": 4
}
